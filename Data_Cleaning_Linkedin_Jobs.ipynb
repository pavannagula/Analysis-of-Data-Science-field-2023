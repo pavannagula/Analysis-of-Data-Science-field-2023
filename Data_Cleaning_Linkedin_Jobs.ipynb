{
 "cells": [
  {
   "cell_type": "markdown",
   "metadata": {},
   "source": [
    "# Data Cleaning of the Linkedin Data Science family Jobs Data "
   ]
  },
  {
   "cell_type": "code",
   "execution_count": 1,
   "metadata": {},
   "outputs": [],
   "source": [
    "# Importing Required Libraries\n",
    "import pandas as pd\n",
    "import numpy as np\n",
    "import datetime \n",
    "import seaborn as sns\n",
    "from wordcloud import WordCloud, STOPWORDS\n",
    "import matplotlib.pyplot as plt\n",
    "import re\n",
    "from datetime import datetime, timedelta\n",
    "from sklearn.impute import SimpleImputer"
   ]
  },
  {
   "cell_type": "code",
   "execution_count": 2,
   "metadata": {},
   "outputs": [
    {
     "data": {
      "text/html": [
       "<div>\n",
       "<style scoped>\n",
       "    .dataframe tbody tr th:only-of-type {\n",
       "        vertical-align: middle;\n",
       "    }\n",
       "\n",
       "    .dataframe tbody tr th {\n",
       "        vertical-align: top;\n",
       "    }\n",
       "\n",
       "    .dataframe thead th {\n",
       "        text-align: right;\n",
       "    }\n",
       "</style>\n",
       "<table border=\"1\" class=\"dataframe\">\n",
       "  <thead>\n",
       "    <tr style=\"text-align: right;\">\n",
       "      <th></th>\n",
       "      <th>Job_title</th>\n",
       "      <th>Company</th>\n",
       "      <th>Job_location</th>\n",
       "      <th>Post_time</th>\n",
       "      <th>Applicants_count</th>\n",
       "      <th>Job_description</th>\n",
       "      <th>Seniority_level</th>\n",
       "      <th>Employment_type</th>\n",
       "      <th>Job_function</th>\n",
       "      <th>Industries</th>\n",
       "    </tr>\n",
       "  </thead>\n",
       "  <tbody>\n",
       "    <tr>\n",
       "      <th>0</th>\n",
       "      <td>Machine Learning Engineer</td>\n",
       "      <td>Patterned Learning AI</td>\n",
       "      <td>San Francisco, CA</td>\n",
       "      <td>1 day ago</td>\n",
       "      <td>58</td>\n",
       "      <td>, Full-Time, Salary $60K-$70K\\n\\n\\n\\n\\nMinimum...</td>\n",
       "      <td>Entry level</td>\n",
       "      <td>Full-time</td>\n",
       "      <td>Engineering and Information Technology</td>\n",
       "      <td>IT Services and IT Consulting</td>\n",
       "    </tr>\n",
       "    <tr>\n",
       "      <th>1</th>\n",
       "      <td>Machine Learning Engineer</td>\n",
       "      <td>Neural Magic</td>\n",
       "      <td>Somerville, MA</td>\n",
       "      <td>1 month ago</td>\n",
       "      <td>131</td>\n",
       "      <td>Neural Magic is an early-stage AI software com...</td>\n",
       "      <td>Associate</td>\n",
       "      <td>Full-time</td>\n",
       "      <td>Engineering and Information Technology</td>\n",
       "      <td>Technology, Information and Internet</td>\n",
       "    </tr>\n",
       "    <tr>\n",
       "      <th>2</th>\n",
       "      <td>Data Scientist</td>\n",
       "      <td>Patterned Learning AI</td>\n",
       "      <td>New York, United States</td>\n",
       "      <td>1 week ago</td>\n",
       "      <td>250</td>\n",
       "      <td>This is a remote position.\\n\\n\\n\\n\\nEntry-Leve...</td>\n",
       "      <td>Entry level</td>\n",
       "      <td>Full-time</td>\n",
       "      <td>Engineering and Information Technology</td>\n",
       "      <td>IT Services and IT Consulting</td>\n",
       "    </tr>\n",
       "    <tr>\n",
       "      <th>3</th>\n",
       "      <td>Data Scientist</td>\n",
       "      <td>Patterned Learning AI</td>\n",
       "      <td>San Francisco, CA</td>\n",
       "      <td>1 day ago</td>\n",
       "      <td>49</td>\n",
       "      <td>Junior Data Scientist Engineer, Full-Time, Sal...</td>\n",
       "      <td>Entry level</td>\n",
       "      <td>Full-time</td>\n",
       "      <td>Engineering and Information Technology</td>\n",
       "      <td>IT Services and IT Consulting</td>\n",
       "    </tr>\n",
       "    <tr>\n",
       "      <th>4</th>\n",
       "      <td>Data Scientist</td>\n",
       "      <td>Patterned Learning AI</td>\n",
       "      <td>New York, NY</td>\n",
       "      <td>17 hours ago</td>\n",
       "      <td>56</td>\n",
       "      <td>Entry-Level Data Scientist Engineer - US, Full...</td>\n",
       "      <td>Entry level</td>\n",
       "      <td>Full-time</td>\n",
       "      <td>Engineering and Information Technology</td>\n",
       "      <td>IT Services and IT Consulting</td>\n",
       "    </tr>\n",
       "  </tbody>\n",
       "</table>\n",
       "</div>"
      ],
      "text/plain": [
       "                   Job_title                Company             Job_location   \n",
       "0  Machine Learning Engineer  Patterned Learning AI        San Francisco, CA  \\\n",
       "1  Machine Learning Engineer           Neural Magic           Somerville, MA   \n",
       "2             Data Scientist  Patterned Learning AI  New York, United States   \n",
       "3             Data Scientist  Patterned Learning AI        San Francisco, CA   \n",
       "4             Data Scientist  Patterned Learning AI             New York, NY   \n",
       "\n",
       "      Post_time  Applicants_count   \n",
       "0     1 day ago                58  \\\n",
       "1   1 month ago               131   \n",
       "2    1 week ago               250   \n",
       "3     1 day ago                49   \n",
       "4  17 hours ago                56   \n",
       "\n",
       "                                     Job_description Seniority_level   \n",
       "0  , Full-Time, Salary $60K-$70K\\n\\n\\n\\n\\nMinimum...     Entry level  \\\n",
       "1  Neural Magic is an early-stage AI software com...       Associate   \n",
       "2  This is a remote position.\\n\\n\\n\\n\\nEntry-Leve...     Entry level   \n",
       "3  Junior Data Scientist Engineer, Full-Time, Sal...     Entry level   \n",
       "4  Entry-Level Data Scientist Engineer - US, Full...     Entry level   \n",
       "\n",
       "  Employment_type                            Job_function   \n",
       "0       Full-time  Engineering and Information Technology  \\\n",
       "1       Full-time  Engineering and Information Technology   \n",
       "2       Full-time  Engineering and Information Technology   \n",
       "3       Full-time  Engineering and Information Technology   \n",
       "4       Full-time  Engineering and Information Technology   \n",
       "\n",
       "                             Industries  \n",
       "0         IT Services and IT Consulting  \n",
       "1  Technology, Information and Internet  \n",
       "2         IT Services and IT Consulting  \n",
       "3         IT Services and IT Consulting  \n",
       "4         IT Services and IT Consulting  "
      ]
     },
     "execution_count": 2,
     "metadata": {},
     "output_type": "execute_result"
    }
   ],
   "source": [
    "DS_jobs = pd.read_excel(\"Data_Scientist_Jobs.xlsx\")\n",
    "DS_jobs.head()"
   ]
  },
  {
   "cell_type": "code",
   "execution_count": 3,
   "metadata": {},
   "outputs": [
    {
     "name": "stdout",
     "output_type": "stream",
     "text": [
      "<class 'pandas.core.frame.DataFrame'>\n",
      "RangeIndex: 2346 entries, 0 to 2345\n",
      "Data columns (total 10 columns):\n",
      " #   Column            Non-Null Count  Dtype \n",
      "---  ------            --------------  ----- \n",
      " 0   Job_title         2346 non-null   object\n",
      " 1   Company           2346 non-null   object\n",
      " 2   Job_location      2346 non-null   object\n",
      " 3   Post_time         2346 non-null   object\n",
      " 4   Applicants_count  2346 non-null   int64 \n",
      " 5   Job_description   2346 non-null   object\n",
      " 6   Seniority_level   2115 non-null   object\n",
      " 7   Employment_type   2332 non-null   object\n",
      " 8   Job_function      2332 non-null   object\n",
      " 9   Industries        2332 non-null   object\n",
      "dtypes: int64(1), object(9)\n",
      "memory usage: 183.4+ KB\n"
     ]
    }
   ],
   "source": [
    "DS_jobs.info()"
   ]
  },
  {
   "cell_type": "markdown",
   "metadata": {},
   "source": [
    "**Missing values**"
   ]
  },
  {
   "cell_type": "code",
   "execution_count": 4,
   "metadata": {},
   "outputs": [
    {
     "data": {
      "text/plain": [
       "Job_title             0\n",
       "Company               0\n",
       "Job_location          0\n",
       "Post_time             0\n",
       "Applicants_count      0\n",
       "Job_description       0\n",
       "Seniority_level     231\n",
       "Employment_type      14\n",
       "Job_function         14\n",
       "Industries           14\n",
       "dtype: int64"
      ]
     },
     "execution_count": 4,
     "metadata": {},
     "output_type": "execute_result"
    }
   ],
   "source": [
    "DS_jobs.isnull().sum()"
   ]
  },
  {
   "cell_type": "markdown",
   "metadata": {},
   "source": [
    "* We got missing values in the  Seniority_level, Employment_type, Job_function and Industries"
   ]
  },
  {
   "cell_type": "markdown",
   "metadata": {},
   "source": [
    "* For now, I'm just using simple imputer and replacing the missing values with constant value as 'Missing'"
   ]
  },
  {
   "cell_type": "code",
   "execution_count": 5,
   "metadata": {},
   "outputs": [
    {
     "data": {
      "text/plain": [
       "Job_title           0\n",
       "Company             0\n",
       "Job_location        0\n",
       "Post_time           0\n",
       "Applicants_count    0\n",
       "Job_description     0\n",
       "Seniority_level     0\n",
       "Employment_type     0\n",
       "Job_function        0\n",
       "Industries          0\n",
       "dtype: int64"
      ]
     },
     "execution_count": 5,
     "metadata": {},
     "output_type": "execute_result"
    }
   ],
   "source": [
    "# Filtering the columns with missing values\n",
    "columns_with_missing = DS_jobs.columns[DS_jobs.isnull().any()]\n",
    "\n",
    "# Using SimpleImputer to fill missing values with 'Missing'\n",
    "imputer = SimpleImputer(strategy='constant', fill_value='Missing')\n",
    "DS_jobs[columns_with_missing] = imputer.fit_transform(DS_jobs[columns_with_missing])\n",
    "\n",
    "# Displaying the updated DataFrame\n",
    "DS_jobs.isnull().sum()\n"
   ]
  },
  {
   "cell_type": "markdown",
   "metadata": {},
   "source": [
    "***"
   ]
  },
  {
   "cell_type": "markdown",
   "metadata": {},
   "source": [
    "**Converting Job Posted Time to Date Time Format** "
   ]
  },
  {
   "cell_type": "markdown",
   "metadata": {},
   "source": [
    "* In the extracted data we got only days posted information which I have converted it into the datetime variable by subtracting it from the current date.  "
   ]
  },
  {
   "cell_type": "code",
   "execution_count": 4,
   "metadata": {},
   "outputs": [
    {
     "data": {
      "text/plain": [
       "0       1 day ago\n",
       "1     1 month ago\n",
       "2      1 week ago\n",
       "3       1 day ago\n",
       "4    17 hours ago\n",
       "Name: Post_time, dtype: object"
      ]
     },
     "execution_count": 4,
     "metadata": {},
     "output_type": "execute_result"
    }
   ],
   "source": [
    "DS_jobs['Post_time'].head(5)"
   ]
  },
  {
   "cell_type": "markdown",
   "metadata": {},
   "source": [
    "* As shown in the above we have values like jobs posted 1 day ago, 1 month ago, 17 hours ago and so on.\n",
    "* In order to convert it into datetime format, I have created following function::\n",
    "    * if it has days in it then it will just returns (number of days)\n",
    "    * if it has weeks in it then it will just returns (number of days) * 7\n",
    "    * if it has months in it then it will just returns (number of days) * 30\n",
    "    * if it has hours in it then it will just returns (number of days) / 30\n",
    "    * if it has minutes in it then it will just returns (number of days) / (24 * 60)\n",
    "    * if it has years in it then it will just returns (number of days) / 365\n",
    "\n",
    "Once we have done all the calculations, we will get the values in only days format and that can be converted to date format [YYYY-MM-DD]"
   ]
  },
  {
   "cell_type": "code",
   "execution_count": 6,
   "metadata": {},
   "outputs": [],
   "source": [
    "def convert_post_time(post_time):\n",
    "    num = int(re.findall(r'\\d+', post_time)[0])  # Extract the numeric value from the string\n",
    "    if 'day' in post_time:\n",
    "        return num\n",
    "    elif 'week' in post_time:\n",
    "        return num * 7\n",
    "    elif 'month' in post_time:\n",
    "        return num * 30\n",
    "    elif 'hour' in post_time:\n",
    "        return num / 24\n",
    "    elif 'minute' in post_time:\n",
    "        return num / (24 * 60)\n",
    "    elif 'year' in post_time:\n",
    "        return num * 365\n",
    "    else:\n",
    "        return None\n",
    "\n",
    "DS_jobs['Post_time'] = DS_jobs['Post_time'].apply(convert_post_time)\n",
    "DS_jobs['Post_time'] = DS_jobs['Post_time'].astype(int)  # Converting to numeric\n",
    "\n",
    "# Calculating the actual date by subtracting the number of days from the current date\n",
    "DS_jobs['Days_posted'] = (datetime.now() - pd.to_timedelta(DS_jobs['Post_time'], unit='d')).dt.strftime('%Y-%m-%d')\n",
    "\n",
    "# Converting data type into datetime format \n",
    "DS_jobs['Days_posted'] = pd.to_datetime(DS_jobs['Days_posted']) \n"
   ]
  },
  {
   "cell_type": "code",
   "execution_count": 8,
   "metadata": {},
   "outputs": [
    {
     "name": "stdout",
     "output_type": "stream",
     "text": [
      "<class 'pandas.core.frame.DataFrame'>\n",
      "RangeIndex: 2346 entries, 0 to 2345\n",
      "Data columns (total 11 columns):\n",
      " #   Column            Non-Null Count  Dtype         \n",
      "---  ------            --------------  -----         \n",
      " 0   Job_title         2346 non-null   object        \n",
      " 1   Company           2346 non-null   object        \n",
      " 2   Job_location      2346 non-null   object        \n",
      " 3   Post_time         2346 non-null   int32         \n",
      " 4   Applicants_count  2346 non-null   int64         \n",
      " 5   Job_description   2346 non-null   object        \n",
      " 6   Seniority_level   2346 non-null   object        \n",
      " 7   Employment_type   2346 non-null   object        \n",
      " 8   Job_function      2346 non-null   object        \n",
      " 9   Industries        2346 non-null   object        \n",
      " 10  Days_posted       2346 non-null   datetime64[ns]\n",
      "dtypes: datetime64[ns](1), int32(1), int64(1), object(8)\n",
      "memory usage: 192.6+ KB\n"
     ]
    }
   ],
   "source": [
    "DS_jobs.info()"
   ]
  },
  {
   "cell_type": "markdown",
   "metadata": {},
   "source": [
    "* From the Datys_Posted datetime variable we are extacting the Months, days and Quarter for EDA."
   ]
  },
  {
   "cell_type": "code",
   "execution_count": 9,
   "metadata": {},
   "outputs": [],
   "source": [
    "DS_jobs['Days_posted_Months'] = DS_jobs['Days_posted'].dt.month # Extracting Months\n",
    "DS_jobs['Days_posted_Days'] = DS_jobs['Days_posted'].dt.day  # Extracting Days\n",
    "DS_jobs['Days_posted_Quarter'] = DS_jobs['Days_posted'].dt.quarter # Extracting Quarter"
   ]
  },
  {
   "cell_type": "markdown",
   "metadata": {},
   "source": [
    "**Demographics**"
   ]
  },
  {
   "cell_type": "markdown",
   "metadata": {},
   "source": [
    "* From the Job_location feature we are segregating the Cities and state codes for better visualization"
   ]
  },
  {
   "cell_type": "code",
   "execution_count": 11,
   "metadata": {},
   "outputs": [
    {
     "data": {
      "text/html": [
       "<div>\n",
       "<style scoped>\n",
       "    .dataframe tbody tr th:only-of-type {\n",
       "        vertical-align: middle;\n",
       "    }\n",
       "\n",
       "    .dataframe tbody tr th {\n",
       "        vertical-align: top;\n",
       "    }\n",
       "\n",
       "    .dataframe thead th {\n",
       "        text-align: right;\n",
       "    }\n",
       "</style>\n",
       "<table border=\"1\" class=\"dataframe\">\n",
       "  <thead>\n",
       "    <tr style=\"text-align: right;\">\n",
       "      <th></th>\n",
       "      <th>Job_title</th>\n",
       "      <th>Company</th>\n",
       "      <th>Job_location</th>\n",
       "      <th>Post_time</th>\n",
       "      <th>Applicants_count</th>\n",
       "      <th>Job_description</th>\n",
       "      <th>Seniority_level</th>\n",
       "      <th>Employment_type</th>\n",
       "      <th>Job_function</th>\n",
       "      <th>Industries</th>\n",
       "      <th>Days_posted</th>\n",
       "      <th>Days_posted_Months</th>\n",
       "      <th>Days_posted_Days</th>\n",
       "      <th>Days_posted_Quarter</th>\n",
       "      <th>City</th>\n",
       "      <th>State</th>\n",
       "    </tr>\n",
       "  </thead>\n",
       "  <tbody>\n",
       "    <tr>\n",
       "      <th>0</th>\n",
       "      <td>Machine Learning Engineer</td>\n",
       "      <td>Patterned Learning AI</td>\n",
       "      <td>San Francisco, CA</td>\n",
       "      <td>1</td>\n",
       "      <td>58</td>\n",
       "      <td>, Full-Time, Salary $60K-$70K\\n\\n\\n\\n\\nMinimum...</td>\n",
       "      <td>Entry level</td>\n",
       "      <td>Full-time</td>\n",
       "      <td>Engineering and Information Technology</td>\n",
       "      <td>IT Services and IT Consulting</td>\n",
       "      <td>2023-07-10</td>\n",
       "      <td>7</td>\n",
       "      <td>10</td>\n",
       "      <td>3</td>\n",
       "      <td>San Francisco</td>\n",
       "      <td>CA</td>\n",
       "    </tr>\n",
       "    <tr>\n",
       "      <th>1</th>\n",
       "      <td>Machine Learning Engineer</td>\n",
       "      <td>Neural Magic</td>\n",
       "      <td>Somerville, MA</td>\n",
       "      <td>30</td>\n",
       "      <td>131</td>\n",
       "      <td>Neural Magic is an early-stage AI software com...</td>\n",
       "      <td>Associate</td>\n",
       "      <td>Full-time</td>\n",
       "      <td>Engineering and Information Technology</td>\n",
       "      <td>Technology, Information and Internet</td>\n",
       "      <td>2023-06-11</td>\n",
       "      <td>6</td>\n",
       "      <td>11</td>\n",
       "      <td>2</td>\n",
       "      <td>Somerville</td>\n",
       "      <td>MA</td>\n",
       "    </tr>\n",
       "    <tr>\n",
       "      <th>2</th>\n",
       "      <td>Data Scientist</td>\n",
       "      <td>Patterned Learning AI</td>\n",
       "      <td>New York, United States</td>\n",
       "      <td>7</td>\n",
       "      <td>250</td>\n",
       "      <td>This is a remote position.\\n\\n\\n\\n\\nEntry-Leve...</td>\n",
       "      <td>Entry level</td>\n",
       "      <td>Full-time</td>\n",
       "      <td>Engineering and Information Technology</td>\n",
       "      <td>IT Services and IT Consulting</td>\n",
       "      <td>2023-07-04</td>\n",
       "      <td>7</td>\n",
       "      <td>4</td>\n",
       "      <td>3</td>\n",
       "      <td>New York</td>\n",
       "      <td>NaN</td>\n",
       "    </tr>\n",
       "    <tr>\n",
       "      <th>3</th>\n",
       "      <td>Data Scientist</td>\n",
       "      <td>Patterned Learning AI</td>\n",
       "      <td>San Francisco, CA</td>\n",
       "      <td>1</td>\n",
       "      <td>49</td>\n",
       "      <td>Junior Data Scientist Engineer, Full-Time, Sal...</td>\n",
       "      <td>Entry level</td>\n",
       "      <td>Full-time</td>\n",
       "      <td>Engineering and Information Technology</td>\n",
       "      <td>IT Services and IT Consulting</td>\n",
       "      <td>2023-07-10</td>\n",
       "      <td>7</td>\n",
       "      <td>10</td>\n",
       "      <td>3</td>\n",
       "      <td>San Francisco</td>\n",
       "      <td>CA</td>\n",
       "    </tr>\n",
       "    <tr>\n",
       "      <th>4</th>\n",
       "      <td>Data Scientist</td>\n",
       "      <td>Patterned Learning AI</td>\n",
       "      <td>New York, NY</td>\n",
       "      <td>0</td>\n",
       "      <td>56</td>\n",
       "      <td>Entry-Level Data Scientist Engineer - US, Full...</td>\n",
       "      <td>Entry level</td>\n",
       "      <td>Full-time</td>\n",
       "      <td>Engineering and Information Technology</td>\n",
       "      <td>IT Services and IT Consulting</td>\n",
       "      <td>2023-07-11</td>\n",
       "      <td>7</td>\n",
       "      <td>11</td>\n",
       "      <td>3</td>\n",
       "      <td>New York</td>\n",
       "      <td>NY</td>\n",
       "    </tr>\n",
       "  </tbody>\n",
       "</table>\n",
       "</div>"
      ],
      "text/plain": [
       "                   Job_title                Company             Job_location   \n",
       "0  Machine Learning Engineer  Patterned Learning AI        San Francisco, CA  \\\n",
       "1  Machine Learning Engineer           Neural Magic           Somerville, MA   \n",
       "2             Data Scientist  Patterned Learning AI  New York, United States   \n",
       "3             Data Scientist  Patterned Learning AI        San Francisco, CA   \n",
       "4             Data Scientist  Patterned Learning AI             New York, NY   \n",
       "\n",
       "   Post_time  Applicants_count   \n",
       "0          1                58  \\\n",
       "1         30               131   \n",
       "2          7               250   \n",
       "3          1                49   \n",
       "4          0                56   \n",
       "\n",
       "                                     Job_description Seniority_level   \n",
       "0  , Full-Time, Salary $60K-$70K\\n\\n\\n\\n\\nMinimum...     Entry level  \\\n",
       "1  Neural Magic is an early-stage AI software com...       Associate   \n",
       "2  This is a remote position.\\n\\n\\n\\n\\nEntry-Leve...     Entry level   \n",
       "3  Junior Data Scientist Engineer, Full-Time, Sal...     Entry level   \n",
       "4  Entry-Level Data Scientist Engineer - US, Full...     Entry level   \n",
       "\n",
       "  Employment_type                            Job_function   \n",
       "0       Full-time  Engineering and Information Technology  \\\n",
       "1       Full-time  Engineering and Information Technology   \n",
       "2       Full-time  Engineering and Information Technology   \n",
       "3       Full-time  Engineering and Information Technology   \n",
       "4       Full-time  Engineering and Information Technology   \n",
       "\n",
       "                             Industries Days_posted  Days_posted_Months   \n",
       "0         IT Services and IT Consulting  2023-07-10                   7  \\\n",
       "1  Technology, Information and Internet  2023-06-11                   6   \n",
       "2         IT Services and IT Consulting  2023-07-04                   7   \n",
       "3         IT Services and IT Consulting  2023-07-10                   7   \n",
       "4         IT Services and IT Consulting  2023-07-11                   7   \n",
       "\n",
       "   Days_posted_Days  Days_posted_Quarter           City State  \n",
       "0                10                    3  San Francisco    CA  \n",
       "1                11                    2     Somerville    MA  \n",
       "2                 4                    3       New York   NaN  \n",
       "3                10                    3  San Francisco    CA  \n",
       "4                11                    3       New York    NY  "
      ]
     },
     "execution_count": 11,
     "metadata": {},
     "output_type": "execute_result"
    }
   ],
   "source": [
    "\n",
    "# Extracting city name\n",
    "DS_jobs['City'] = DS_jobs['Job_location'].str.extract(r'([a-zA-Z\\s]+),')\n",
    "\n",
    "# Extracting state code\n",
    "DS_jobs['State'] = DS_jobs['Job_location'].str.extract(r'(\\b[A-Z]{2}\\b)')\n",
    "\n",
    "# Displaying the updated DataFrame\n",
    "DS_jobs.head()"
   ]
  },
  {
   "cell_type": "code",
   "execution_count": null,
   "metadata": {},
   "outputs": [],
   "source": []
  },
  {
   "cell_type": "code",
   "execution_count": null,
   "metadata": {},
   "outputs": [],
   "source": []
  },
  {
   "cell_type": "code",
   "execution_count": null,
   "metadata": {},
   "outputs": [],
   "source": []
  },
  {
   "cell_type": "code",
   "execution_count": null,
   "metadata": {},
   "outputs": [],
   "source": []
  },
  {
   "cell_type": "code",
   "execution_count": null,
   "metadata": {},
   "outputs": [],
   "source": []
  }
 ],
 "metadata": {
  "kernelspec": {
   "display_name": "Python 3",
   "language": "python",
   "name": "python3"
  },
  "language_info": {
   "codemirror_mode": {
    "name": "ipython",
    "version": 3
   },
   "file_extension": ".py",
   "mimetype": "text/x-python",
   "name": "python",
   "nbconvert_exporter": "python",
   "pygments_lexer": "ipython3",
   "version": "3.11.3"
  },
  "orig_nbformat": 4
 },
 "nbformat": 4,
 "nbformat_minor": 2
}
